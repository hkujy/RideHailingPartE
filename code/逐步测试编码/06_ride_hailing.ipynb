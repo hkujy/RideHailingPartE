{
 "cells": [
  {
   "cell_type": "code",
   "execution_count": null,
   "metadata": {},
   "outputs": [],
   "source": [
    "import pandas as pd\n",
    "import warnings\n",
    "warnings.filterwarnings('ignore')"
   ]
  },
  {
   "cell_type": "code",
   "execution_count": null,
   "metadata": {},
   "outputs": [],
   "source": [
    "import link\n",
    "import network\n",
    "import path \n",
    "import mode\n",
    "import path2link"
   ]
  },
  {
   "cell_type": "code",
   "execution_count": null,
   "metadata": {},
   "outputs": [],
   "source": [
    "my_link = pd.read_excel('../input_network/Nguyen_Dupuis_network.xlsx', sheet_name='link_info')\n",
    "my_node = pd.read_excel('../input_network/Nguyen_Dupuis_network.xlsx', sheet_name='node_info')\n",
    "my_link['name'] = my_link['from'].astype('str') +'-'+my_link['to'].astype('str')\n",
    "my_demand = pd.read_excel('../input_network/Nguyen_Dupuis_network.xlsx', sheet_name='demand_info')"
   ]
  },
  {
   "cell_type": "code",
   "execution_count": null,
   "metadata": {},
   "outputs": [],
   "source": [
    "# generate multimode network\n",
    "my_graph = network.get_graph(link_table=my_link,node_table=my_node)\n",
    "print(my_graph)"
   ]
  },
  {
   "cell_type": "code",
   "execution_count": null,
   "metadata": {},
   "outputs": [],
   "source": [
    "# path_set\n",
    "my_path_set = path.get_path_set(G=my_graph, origin_zone=['r1'], destination_zone=['s1'])\n",
    "my_path_set = path.path_cost(path_set=my_path_set)\n",
    "my_path_set.head(2)"
   ]
  },
  {
   "cell_type": "code",
   "execution_count": null,
   "metadata": {},
   "outputs": [],
   "source": [
    "# generate mode set\n",
    "my_mode_set = mode.get_mode_set(paths=my_path_set, \n",
    "                  theta_1=5,\n",
    "                  theta_2=0.01, \n",
    "                  theta_3=0.001)\n",
    "my_mode_set"
   ]
  },
  {
   "cell_type": "code",
   "execution_count": null,
   "metadata": {},
   "outputs": [],
   "source": [
    "# path flow\n",
    "new_paths = mode.get_y_flow(mode_set=my_mode_set,path_set=my_path_set, demand=my_demand)\n",
    "new_paths.head(2)"
   ]
  },
  {
   "cell_type": "code",
   "execution_count": null,
   "metadata": {},
   "outputs": [],
   "source": [
    "new_paths['path_flow'] = new_paths['demand'].unique().sum()/len(new_paths)\n",
    "new_paths"
   ]
  },
  {
   "cell_type": "code",
   "execution_count": null,
   "metadata": {},
   "outputs": [],
   "source": [
    "my_link = path2link.update_link_flow(path_set=new_paths, link_table=my_link)\n",
    "my_link.head()"
   ]
  },
  {
   "cell_type": "code",
   "execution_count": null,
   "metadata": {},
   "outputs": [],
   "source": []
  }
 ],
 "metadata": {
  "kernelspec": {
   "display_name": "base",
   "language": "python",
   "name": "python3"
  },
  "language_info": {
   "name": "python",
   "version": "3.9.7 (default, Sep 16 2021, 16:59:28) [MSC v.1916 64 bit (AMD64)]"
  },
  "orig_nbformat": 4,
  "vscode": {
   "interpreter": {
    "hash": "1f8af689eab89c2ca4c9d5463eaa615734b9129a2540521c0cd4bc0a0e29db0a"
   }
  }
 },
 "nbformat": 4,
 "nbformat_minor": 2
}
